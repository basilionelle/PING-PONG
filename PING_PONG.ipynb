{
  "nbformat": 4,
  "nbformat_minor": 0,
  "metadata": {
    "colab": {
      "provenance": []
    },
    "kernelspec": {
      "name": "python3",
      "display_name": "Python 3"
    },
    "language_info": {
      "name": "python"
    }
  },
  "cells": [
    {
      "cell_type": "code",
      "source": [
        "import pygame\n",
        "import sys\n",
        "\n",
        "# Initialize Pygame\n",
        "pygame.init()\n",
        "\n",
        "# Set up display\n",
        "WIDTH, HEIGHT = 800, 600\n",
        "screen = pygame.display.set_mode((WIDTH, HEIGHT))\n",
        "pygame.display.set_caption(\"Ping Pong Game\")\n",
        "\n",
        "# Colors\n",
        "WHITE = (255, 255, 255)\n",
        "PINK = (255, 105, 180)\n",
        "BLACK = (0, 0, 0)\n",
        "\n",
        "# Fonts\n",
        "font = pygame.font.SysFont(\"Times New Roman\", 11)"
      ],
      "metadata": {
        "id": "93E7dv1-Jmmh"
      },
      "execution_count": 6,
      "outputs": []
    },
    {
      "cell_type": "code",
      "source": [
        "# Paddle and ball settings\n",
        "paddle_width, paddle_height = 10, 100\n",
        "ball_size = 20\n",
        "\n",
        "# Paddle positions\n",
        "left_paddle = pygame.Rect(30, HEIGHT // 2 - paddle_height // 2, paddle_width, paddle_height)\n",
        "right_paddle = pygame.Rect(WIDTH - 30 - paddle_width, HEIGHT // 2 - paddle_height // 2, paddle_width, paddle_height)\n",
        "\n",
        "# Ball position and speed\n",
        "ball = pygame.Rect(WIDTH // 2 - ball_size // 2, HEIGHT // 2 - ball_size // 2, ball_size, ball_size)\n",
        "ball_speed_x, ball_speed_y = 7, 7\n",
        "\n",
        "# Scores\n",
        "left_score, right_score = 0, 0"
      ],
      "metadata": {
        "id": "l8plvESlJoD3"
      },
      "execution_count": 7,
      "outputs": []
    },
    {
      "cell_type": "code",
      "source": [
        "def reset_ball():\n",
        "    \"\"\"Reset the ball to the center of the screen.\"\"\"\n",
        "    global ball_speed_x, ball_speed_y\n",
        "    ball.center = (WIDTH // 2, HEIGHT // 2)\n",
        "    ball_speed_x *= -1  # Alternate direction\n",
        "\n",
        "def display_sad_face():\n",
        "    \"\"\"Display a sad face when a player misses the ball.\"\"\"\n",
        "    sad_face = font.render(\":(\", True, WHITE)\n",
        "    screen.blit(sad_face, (WIDTH // 2 - 10, HEIGHT // 2 - 10))\n",
        "    pygame.display.flip()\n",
        "    pygame.time.delay(500)  # Show sad face for 500ms"
      ],
      "metadata": {
        "id": "estaxijaJpcl"
      },
      "execution_count": 8,
      "outputs": []
    },
    {
      "cell_type": "markdown",
      "source": [
        "How to Play\n",
        "Left Paddle: Use W (up) and S (down) keys.\n",
        "\n",
        "Right Paddle: Use UP and DOWN arrow keys.\n",
        "\n",
        "If a player misses the ball, a sad face :( will appear briefly, and the opponent scores a point."
      ],
      "metadata": {
        "id": "FBwIK4K3JxQS"
      }
    },
    {
      "cell_type": "code",
      "source": [
        "clock = pygame.time.Clock()\n",
        "\n",
        "while True:\n",
        "    # Handle events\n",
        "    for event in pygame.event.get():\n",
        "        if event.type == pygame.QUIT:\n",
        "            pygame.quit()\n",
        "            sys.exit()\n",
        "\n",
        "    # Paddle movement\n",
        "    keys = pygame.key.get_pressed()\n",
        "    if keys[pygame.K_w] and left_paddle.top > 0:\n",
        "        left_paddle.y -= 7\n",
        "    if keys[pygame.K_s] and left_paddle.bottom < HEIGHT:\n",
        "        left_paddle.y += 7\n",
        "    if keys[pygame.K_UP] and right_paddle.top > 0:\n",
        "        right_paddle.y -= 7\n",
        "    if keys[pygame.K_DOWN] and right_paddle.bottom < HEIGHT:\n",
        "        right_paddle.y += 7\n",
        "\n",
        "    # Ball movement\n",
        "    ball.x += ball_speed_x\n",
        "    ball.y += ball_speed_y\n",
        "\n",
        "    # Ball collision with top and bottom walls\n",
        "    if ball.top <= 0 or ball.bottom >= HEIGHT:\n",
        "        ball_speed_y *= -1\n",
        "\n",
        "    # Ball collision with paddles\n",
        "    if ball.colliderect(left_paddle) or ball.colliderect(right_paddle):\n",
        "        ball_speed_x *= -1\n",
        "\n",
        "    # Ball out of bounds (score)\n",
        "    if ball.left <= 0:\n",
        "        right_score += 1\n",
        "        display_sad_face()\n",
        "        reset_ball()\n",
        "    if ball.right >= WIDTH:\n",
        "        left_score += 1\n",
        "        display_sad_face()\n",
        "        reset_ball()\n",
        "\n",
        "    # Draw everything\n",
        "    screen.fill(BLACK)\n",
        "    pygame.draw.rect(screen, WHITE, left_paddle)\n",
        "    pygame.draw.rect(screen, WHITE, right_paddle)\n",
        "    pygame.draw.ellipse(screen, PINK, ball)\n",
        "    pygame.draw.aaline(screen, WHITE, (WIDTH // 2, 0), (WIDTH // 2, HEIGHT))\n",
        "\n",
        "    # Display scores\n",
        "    left_score_text = font.render(f\"Left: {left_score}\", True, WHITE)\n",
        "    right_score_text = font.render(f\"Right: {right_score}\", True, WHITE)\n",
        "    screen.blit(left_score_text, (20, 20))\n",
        "    screen.blit(right_score_text, (WIDTH - 100, 20))\n",
        "\n",
        "    # Update display\n",
        "    pygame.display.flip()\n",
        "    clock.tick(60)  # 60 FPS"
      ],
      "metadata": {
        "id": "Zlow5oO2Js71"
      },
      "execution_count": null,
      "outputs": []
    }
  ]
}